{
  "nbformat": 4,
  "nbformat_minor": 0,
  "metadata": {
    "colab": {
      "name": "lista_exercicios_3.ipynb",
      "provenance": [],
      "collapsed_sections": []
    },
    "kernelspec": {
      "name": "python3",
      "display_name": "Python 3"
    },
    "language_info": {
      "name": "python"
    }
  },
  "cells": [
    {
      "cell_type": "markdown",
      "source": [
        "# Lista de Exercícios 3: Laços de Repetição **While** e **For**\n",
        "\n",
        "\n",
        "---\n",
        "\n",
        "###Instruções para entrega:\n",
        "\n",
        "1. O notebook precisa ser todo respondido e executado.\n",
        "2. O arquivo deve ser baixado em formato .ipynb\n",
        "3. Após isso deve ser enviado no grupo do Telegram com as seguintes características:\n",
        "\n",
        "  * Nome do Arquivo: \n",
        "  \n",
        "    lista_exercicios_3.ipynb\n",
        "\n",
        "  * O seu nome completo, sem abreviações deve ser colocado como mensagem junto ao arquivo.\n",
        "  * Após o nome colocar **#listapython3**\n",
        "\n",
        "Se essas regras não forem seguidas e o arquivo não for achado, o aluno não será pontuado."
      ],
      "metadata": {
        "id": "wTIQb22q8w5o"
      }
    },
    {
      "cell_type": "markdown",
      "source": [
        "1. Usando a estrutura While, peça ao usuário um nome. Enquanto esse nome for diferente a um nome específico (definido por vocês), continue pedindo ao usuário um nome até que ele escreva o correto."
      ],
      "metadata": {
        "id": "PEHwY24B-zSx"
      }
    },
    {
      "cell_type": "code",
      "execution_count": null,
      "metadata": {
        "id": "O54k8KZX8wGT",
        "outputId": "f42fd85f-9c7e-4fd8-8ea3-5101a9f653d9",
        "colab": {
          "base_uri": "https://localhost:8080/"
        }
      },
      "outputs": [
        {
          "name": "stdout",
          "output_type": "stream",
          "text": [
            "Escreva um nome aqui :xd\n",
            "Escreva um nome aqui :ed\n",
            "Escreva um nome aqui :joão\n"
          ]
        }
      ],
      "source": [
        "nome = input(\"Digite um nome aqui :\");\n",
        "while nome != \"joão\" :\n",
        "  nome = input(\"Digite um nome aqui :\");"
      ]
    },
    {
      "cell_type": "markdown",
      "source": [
        "2. Usando a estrutura While, solicite ao usuário um nome. Enquanto o nome solicitado não for um nome específico dentro de uma lista de 5 nomes, continue solicitando que ele escreva um nome. Vocês devem definir a lista de nomes."
      ],
      "metadata": {
        "id": "5MwazHja_gGl"
      }
    },
    {
      "cell_type": "code",
      "source": [
        "nomes_lista = [\"joão\", \"vichtor\", \"loquingen\", \"soares\", \"ferreira\"]\n",
        "nome = input(\"Acerte meu terceiro nome : \");\n",
        "while nome != nomes_lista[2] :\n",
        " nome = input(\"Acerte meu terceiro nome : \");"
      ],
      "metadata": {
        "id": "7vbB6bSZ_u7l",
        "outputId": "7f0c1f52-d3f5-4997-dfa9-d6be0f1b4a7a",
        "colab": {
          "base_uri": "https://localhost:8080/"
        }
      },
      "execution_count": null,
      "outputs": [
        {
          "name": "stdout",
          "output_type": "stream",
          "text": [
            "Acerte meu terceiro nome : loquingen\n"
          ]
        }
      ]
    },
    {
      "cell_type": "markdown",
      "source": [
        "3. Faça uma contagem regressiva de 20 até 0 usando While."
      ],
      "metadata": {
        "id": "tnW340lC_vfo"
      }
    },
    {
      "cell_type": "code",
      "source": [
        "contador = 20\n",
        "while contador >= 0:\n",
        "  print(contador)\n",
        "  contador -= 1"
      ],
      "metadata": {
        "id": "qsOtzV4o_6Wf",
        "colab": {
          "base_uri": "https://localhost:8080/"
        },
        "outputId": "79754133-1e7e-4963-c686-559643c40ca6"
      },
      "execution_count": null,
      "outputs": [
        {
          "output_type": "stream",
          "name": "stdout",
          "text": [
            "20\n",
            "19\n",
            "18\n",
            "17\n",
            "16\n",
            "15\n",
            "14\n",
            "13\n",
            "12\n",
            "11\n",
            "10\n",
            "9\n",
            "8\n",
            "7\n",
            "6\n",
            "5\n",
            "4\n",
            "3\n",
            "2\n",
            "1\n",
            "0\n"
          ]
        }
      ]
    },
    {
      "cell_type": "markdown",
      "source": [
        "4. Faça uma contagem progressiva de 0 até 20 usando While."
      ],
      "metadata": {
        "id": "uOelHwyVBCeg"
      }
    },
    {
      "cell_type": "code",
      "source": [
        "contador = 0\n",
        "while contador <= 20 :\n",
        "  print(contador)\n",
        "  contador += 1"
      ],
      "metadata": {
        "id": "rLLNQtpPBHZZ",
        "colab": {
          "base_uri": "https://localhost:8080/"
        },
        "outputId": "d8e13443-9a39-4b6c-ad56-aa6309f39097"
      },
      "execution_count": null,
      "outputs": [
        {
          "output_type": "stream",
          "name": "stdout",
          "text": [
            "0\n",
            "1\n",
            "2\n",
            "3\n",
            "4\n",
            "5\n",
            "6\n",
            "7\n",
            "8\n",
            "9\n",
            "10\n",
            "11\n",
            "12\n",
            "13\n",
            "14\n",
            "15\n",
            "16\n",
            "17\n",
            "18\n",
            "19\n",
            "20\n"
          ]
        }
      ]
    },
    {
      "cell_type": "markdown",
      "source": [
        "5. Faça uma contagem regressiva de 20 até 0 usando For."
      ],
      "metadata": {
        "id": "6uYOwUl_BIkH"
      }
    },
    {
      "cell_type": "code",
      "source": [
        "for contagem in range(20, -1, -1):\n",
        "  print(contagem)"
      ],
      "metadata": {
        "id": "trxcBukXBNxH",
        "colab": {
          "base_uri": "https://localhost:8080/"
        },
        "outputId": "46b972e6-fa3d-4d3d-dc27-940406e6d328"
      },
      "execution_count": null,
      "outputs": [
        {
          "output_type": "stream",
          "name": "stdout",
          "text": [
            "20\n",
            "19\n",
            "18\n",
            "17\n",
            "16\n",
            "15\n",
            "14\n",
            "13\n",
            "12\n",
            "11\n",
            "10\n",
            "9\n",
            "8\n",
            "7\n",
            "6\n",
            "5\n",
            "4\n",
            "3\n",
            "2\n",
            "1\n",
            "0\n"
          ]
        }
      ]
    },
    {
      "cell_type": "markdown",
      "source": [
        "6. Faça uma contagem progressiva de 0 até 20 usando For."
      ],
      "metadata": {
        "id": "lToZhAhcBPxS"
      }
    },
    {
      "cell_type": "code",
      "source": [
        "for contagem in range(21):\n",
        "  print(contagem)"
      ],
      "metadata": {
        "id": "bPljI2WfBS0K",
        "colab": {
          "base_uri": "https://localhost:8080/"
        },
        "outputId": "a6bec0f0-0db0-4611-e762-21ed78bffe78"
      },
      "execution_count": null,
      "outputs": [
        {
          "output_type": "stream",
          "name": "stdout",
          "text": [
            "0\n",
            "1\n",
            "2\n",
            "3\n",
            "4\n",
            "5\n",
            "6\n",
            "7\n",
            "8\n",
            "9\n",
            "10\n",
            "11\n",
            "12\n",
            "13\n",
            "14\n",
            "15\n",
            "16\n",
            "17\n",
            "18\n",
            "19\n",
            "20\n"
          ]
        }
      ]
    },
    {
      "cell_type": "markdown",
      "source": [
        "7. Faça um programa usando For que imprima todos os valores da seguinte lista: `[\"Filipe\", \"José\", \"Carlos\", \"Eric\", \"Yuri\", \"João\"]`. Escreva a mensagem para cada nome: `\"Olá, {nome}! Seja bem vindo!\"`.\n"
      ],
      "metadata": {
        "id": "POPFZp1GBs-6"
      }
    },
    {
      "cell_type": "code",
      "source": [
        "lista_nomes = [\"Filipe\", \"José\", \"Carlos\", \"Eric\", \"Yuri\", \"João\"]\n",
        "for fulano in lista_nomes:\n",
        "  print(f\"Olá, {fulano}! Seja bem vindo! \")"
      ],
      "metadata": {
        "id": "QDMB4Qhhk9Mf",
        "colab": {
          "base_uri": "https://localhost:8080/"
        },
        "outputId": "98240324-58a8-4722-9fbd-05976f8c392f"
      },
      "execution_count": null,
      "outputs": [
        {
          "output_type": "stream",
          "name": "stdout",
          "text": [
            "Olá, Filipe! Seja bem vindo! \n",
            "Olá, José! Seja bem vindo! \n",
            "Olá, Carlos! Seja bem vindo! \n",
            "Olá, Eric! Seja bem vindo! \n",
            "Olá, Yuri! Seja bem vindo! \n",
            "Olá, João! Seja bem vindo! \n"
          ]
        }
      ]
    },
    {
      "cell_type": "markdown",
      "source": [
        "8. Faça um programa que calcule um número determinado por você por expoentes de 0 até 10. Por exemplo, se o número for 2, calcular 2⁰, depois 2¹, depois 2²..."
      ],
      "metadata": {
        "id": "hdhqKtRSk5hY"
      }
    },
    {
      "cell_type": "code",
      "source": [
        "n = 1998\n",
        "for expoente in range(0,11,1):\n",
        "  print(f\"{n} elevado a {expoente} = {n**expoente}\")"
      ],
      "metadata": {
        "id": "KfhhDfA2CrHw",
        "colab": {
          "base_uri": "https://localhost:8080/"
        },
        "outputId": "751553d3-81ec-4cb4-8b1b-d3d0989997fa"
      },
      "execution_count": null,
      "outputs": [
        {
          "output_type": "stream",
          "name": "stdout",
          "text": [
            "1998 elevado a 0 = 1\n",
            "1998 elevado a 1 = 1998\n",
            "1998 elevado a 2 = 3992004\n",
            "1998 elevado a 3 = 7976023992\n",
            "1998 elevado a 4 = 15936095936016\n",
            "1998 elevado a 5 = 31840319680159968\n",
            "1998 elevado a 6 = 63616958720959616064\n",
            "1998 elevado a 7 = 127106683524477312895872\n",
            "1998 elevado a 8 = 253959153681905671165952256\n",
            "1998 elevado a 9 = 507410389056447530989572607488\n",
            "1998 elevado a 10 = 1013805957334782166917166069761024\n"
          ]
        }
      ]
    }
  ]
}